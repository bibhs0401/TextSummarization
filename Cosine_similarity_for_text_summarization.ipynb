{
  "nbformat": 4,
  "nbformat_minor": 0,
  "metadata": {
    "colab": {
      "provenance": [],
      "authorship_tag": "ABX9TyNy/7mVVWgiruy4I0z1TNwT",
      "include_colab_link": true
    },
    "kernelspec": {
      "name": "python3",
      "display_name": "Python 3"
    },
    "language_info": {
      "name": "python"
    }
  },
  "cells": [
    {
      "cell_type": "markdown",
      "metadata": {
        "id": "view-in-github",
        "colab_type": "text"
      },
      "source": [
        "<a href=\"https://colab.research.google.com/github/bibhs0401/TextSummarization/blob/main/Cosine_similarity_for_text_summarization.ipynb\" target=\"_parent\"><img src=\"https://colab.research.google.com/assets/colab-badge.svg\" alt=\"Open In Colab\"/></a>"
      ]
    },
    {
      "cell_type": "code",
      "execution_count": 2,
      "metadata": {
        "id": "KkexFmgstQNG"
      },
      "outputs": [],
      "source": [
        "import re\n",
        "import nltk\n",
        "import string\n",
        "import numpy as np\n",
        "import networkx as nx\n",
        "from nltk.cluster.util import cosine_distance"
      ]
    },
    {
      "cell_type": "code",
      "source": [
        "nltk.download('punkt')\n",
        "nltk.download('stopwords')"
      ],
      "metadata": {
        "colab": {
          "base_uri": "https://localhost:8080/"
        },
        "id": "_a02YBbJtHfW",
        "outputId": "a1002d07-eda6-426d-a62b-3be4bac843d6"
      },
      "execution_count": 3,
      "outputs": [
        {
          "output_type": "stream",
          "name": "stderr",
          "text": [
            "[nltk_data] Downloading package punkt to /root/nltk_data...\n",
            "[nltk_data]   Unzipping tokenizers/punkt.zip.\n",
            "[nltk_data] Downloading package stopwords to /root/nltk_data...\n",
            "[nltk_data]   Unzipping corpora/stopwords.zip.\n"
          ]
        },
        {
          "output_type": "execute_result",
          "data": {
            "text/plain": [
              "True"
            ]
          },
          "metadata": {},
          "execution_count": 3
        }
      ]
    },
    {
      "cell_type": "code",
      "source": [
        "stopwords = nltk.corpus.stopwords.words('english')\n",
        "print(stopwords)"
      ],
      "metadata": {
        "colab": {
          "base_uri": "https://localhost:8080/"
        },
        "id": "un1OBCG3tayD",
        "outputId": "4227c999-8717-4563-e52b-784c0cdfc722"
      },
      "execution_count": 4,
      "outputs": [
        {
          "output_type": "stream",
          "name": "stdout",
          "text": [
            "['i', 'me', 'my', 'myself', 'we', 'our', 'ours', 'ourselves', 'you', \"you're\", \"you've\", \"you'll\", \"you'd\", 'your', 'yours', 'yourself', 'yourselves', 'he', 'him', 'his', 'himself', 'she', \"she's\", 'her', 'hers', 'herself', 'it', \"it's\", 'its', 'itself', 'they', 'them', 'their', 'theirs', 'themselves', 'what', 'which', 'who', 'whom', 'this', 'that', \"that'll\", 'these', 'those', 'am', 'is', 'are', 'was', 'were', 'be', 'been', 'being', 'have', 'has', 'had', 'having', 'do', 'does', 'did', 'doing', 'a', 'an', 'the', 'and', 'but', 'if', 'or', 'because', 'as', 'until', 'while', 'of', 'at', 'by', 'for', 'with', 'about', 'against', 'between', 'into', 'through', 'during', 'before', 'after', 'above', 'below', 'to', 'from', 'up', 'down', 'in', 'out', 'on', 'off', 'over', 'under', 'again', 'further', 'then', 'once', 'here', 'there', 'when', 'where', 'why', 'how', 'all', 'any', 'both', 'each', 'few', 'more', 'most', 'other', 'some', 'such', 'no', 'nor', 'not', 'only', 'own', 'same', 'so', 'than', 'too', 'very', 's', 't', 'can', 'will', 'just', 'don', \"don't\", 'should', \"should've\", 'now', 'd', 'll', 'm', 'o', 're', 've', 'y', 'ain', 'aren', \"aren't\", 'couldn', \"couldn't\", 'didn', \"didn't\", 'doesn', \"doesn't\", 'hadn', \"hadn't\", 'hasn', \"hasn't\", 'haven', \"haven't\", 'isn', \"isn't\", 'ma', 'mightn', \"mightn't\", 'mustn', \"mustn't\", 'needn', \"needn't\", 'shan', \"shan't\", 'shouldn', \"shouldn't\", 'wasn', \"wasn't\", 'weren', \"weren't\", 'won', \"won't\", 'wouldn', \"wouldn't\"]\n"
          ]
        }
      ]
    },
    {
      "cell_type": "code",
      "source": [
        "def preprocess(text):\n",
        "  formatted_text = text.lower()\n",
        "  tokens = []\n",
        "  for token in nltk.word_tokenize(formatted_text):\n",
        "    tokens.append(token)\n",
        "  #print(tokens)\n",
        "  tokens = [word for word in tokens if word not in stopwords and word not in string.punctuation]\n",
        "  formatted_text = \" \".join(element for element in tokens)\n",
        "  return formatted_text"
      ],
      "metadata": {
        "id": "pVRxwBJftfF8"
      },
      "execution_count": 5,
      "outputs": []
    },
    {
      "cell_type": "code",
      "source": [
        "original_text = \"\"\"Machine learning (ML) is an umbrella term for solving problems for which\n",
        "development of algorithms by human programmers would be cost-prohibitive, and instead the problems are solved by helping\n",
        "machines discover their own algorithms, without needing to be explicitly told what to do by any human-developed algorithms.\n",
        "Recently, generative artificial neural networks have been able to surpass results of many previous approaches.\n",
        "Machine-learning approaches have been applied to large language models, computer vision, speech recognition, email filtering, agriculture and medicine,\n",
        "where it is too costly to develop algorithms to perform the needed tasks.\n",
        "The mathematical foundations of ML are provided by mathematical optimization (mathematical programming) methods.\n",
        "Data mining is a related (parallel) field of study, focusing on exploratory data analysis through unsupervised learning.\n",
        "ML is known in its application across business problems under the name predictive analytics.\n",
        "Although not all machine learning is statistically based, computational statistics is an important source of the fields methods\"\"\"\n",
        "original_text = re.sub(r'\\s',\" \", original_text)\n",
        "original_text"
      ],
      "metadata": {
        "colab": {
          "base_uri": "https://localhost:8080/",
          "height": 140
        },
        "id": "vNcqQ9MOuLta",
        "outputId": "3b707f41-aba9-4ea4-dd5b-4bb298009e1e"
      },
      "execution_count": 6,
      "outputs": [
        {
          "output_type": "execute_result",
          "data": {
            "text/plain": [
              "'Machine learning (ML) is an umbrella term for solving problems for which development of algorithms by human programmers would be cost-prohibitive, and instead the problems are solved by helping machines discover their own algorithms, without needing to be explicitly told what to do by any human-developed algorithms. Recently, generative artificial neural networks have been able to surpass results of many previous approaches. Machine-learning approaches have been applied to large language models, computer vision, speech recognition, email filtering, agriculture and medicine, where it is too costly to develop algorithms to perform the needed tasks. The mathematical foundations of ML are provided by mathematical optimization (mathematical programming) methods. Data mining is a related (parallel) field of study, focusing on exploratory data analysis through unsupervised learning. ML is known in its application across business problems under the name predictive analytics. Although not all machine learning is statistically based, computational statistics is an important source of the fields methods'"
            ],
            "application/vnd.google.colaboratory.intrinsic+json": {
              "type": "string"
            }
          },
          "metadata": {},
          "execution_count": 6
        }
      ]
    },
    {
      "cell_type": "markdown",
      "source": [
        "**Function to calculate the similarity between the sentences**"
      ],
      "metadata": {
        "id": "Qj0i0d_QuY1c"
      }
    },
    {
      "cell_type": "code",
      "source": [
        "original_sentences = [sentence for sentence in nltk.sent_tokenize(original_text)]\n",
        "original_sentences"
      ],
      "metadata": {
        "colab": {
          "base_uri": "https://localhost:8080/"
        },
        "id": "Alo9oks7uWKH",
        "outputId": "c2e5dbe1-2358-4404-a89e-3e1148226bce"
      },
      "execution_count": 7,
      "outputs": [
        {
          "output_type": "execute_result",
          "data": {
            "text/plain": [
              "['Machine learning (ML) is an umbrella term for solving problems for which development of algorithms by human programmers would be cost-prohibitive, and instead the problems are solved by helping machines discover their own algorithms, without needing to be explicitly told what to do by any human-developed algorithms.',\n",
              " 'Recently, generative artificial neural networks have been able to surpass results of many previous approaches.',\n",
              " 'Machine-learning approaches have been applied to large language models, computer vision, speech recognition, email filtering, agriculture and medicine, where it is too costly to develop algorithms to perform the needed tasks.',\n",
              " 'The mathematical foundations of ML are provided by mathematical optimization (mathematical programming) methods.',\n",
              " 'Data mining is a related (parallel) field of study, focusing on exploratory data analysis through unsupervised learning.',\n",
              " 'ML is known in its application across business problems under the name predictive analytics.',\n",
              " 'Although not all machine learning is statistically based, computational statistics is an important source of the fields methods']"
            ]
          },
          "metadata": {},
          "execution_count": 7
        }
      ]
    },
    {
      "cell_type": "code",
      "source": [
        "formatted_sentences = [preprocess(original_sentence) for original_sentence in original_sentences]\n",
        "formatted_sentences"
      ],
      "metadata": {
        "colab": {
          "base_uri": "https://localhost:8080/"
        },
        "id": "qGXvpFePuss7",
        "outputId": "a9899452-9f5f-478a-fd3c-9b7231474234"
      },
      "execution_count": 8,
      "outputs": [
        {
          "output_type": "execute_result",
          "data": {
            "text/plain": [
              "['machine learning ml umbrella term solving problems development algorithms human programmers would cost-prohibitive instead problems solved helping machines discover algorithms without needing explicitly told human-developed algorithms',\n",
              " 'recently generative artificial neural networks able surpass results many previous approaches',\n",
              " 'machine-learning approaches applied large language models computer vision speech recognition email filtering agriculture medicine costly develop algorithms perform needed tasks',\n",
              " 'mathematical foundations ml provided mathematical optimization mathematical programming methods',\n",
              " 'data mining related parallel field study focusing exploratory data analysis unsupervised learning',\n",
              " 'ml known application across business problems name predictive analytics',\n",
              " 'although machine learning statistically based computational statistics important source fields methods']"
            ]
          },
          "metadata": {},
          "execution_count": 8
        }
      ]
    },
    {
      "cell_type": "code",
      "source": [
        "def calculate_sentence_similarity(sentence1, sentence2):\n",
        "  words1 = [word for word in nltk.word_tokenize(sentence1)]\n",
        "  words2 = [word for word in nltk.word_tokenize(sentence2)]\n",
        "  #print(words1)\n",
        "  #print(words2)\n",
        "  all_words = list(set(words1+words2))\n",
        "  #print(all_words)\n",
        "  vector1 = [0]* len(all_words)\n",
        "  vector2 = [0]* len(all_words)\n",
        "  #print(vector1)\n",
        "\n",
        "  for word in words1:\n",
        "    #print(word)\n",
        "    vector1[all_words.index(word)] +=1\n",
        "  for word in words2:\n",
        "    #print(word)\n",
        "    vector2[all_words.index(word)] +=1\n",
        "  #print(vector2)\n",
        "  return 1-cosine_distance(vector1, vector2)\n"
      ],
      "metadata": {
        "id": "RVIDnmmCu7o3"
      },
      "execution_count": 27,
      "outputs": []
    },
    {
      "cell_type": "markdown",
      "source": [
        "vector:value for words appearing once will be 1 and so on"
      ],
      "metadata": {
        "id": "0m_EdKJdETZ0"
      }
    },
    {
      "cell_type": "code",
      "source": [
        "calculate_sentence_similarity(formatted_sentences[0],formatted_sentences[0])"
      ],
      "metadata": {
        "colab": {
          "base_uri": "https://localhost:8080/"
        },
        "id": "lqBs3mAzvXjL",
        "outputId": "418e3e59-5e10-4f5a-e904-0bb353fdb8e2"
      },
      "execution_count": 30,
      "outputs": [
        {
          "output_type": "execute_result",
          "data": {
            "text/plain": [
              "1.0"
            ]
          },
          "metadata": {},
          "execution_count": 30
        }
      ]
    },
    {
      "cell_type": "markdown",
      "source": [
        "**Function to create similarity matrix**\n",
        "The higher the value, the greater the similarity between the sentences.\n",
        "The more words in common, the greater the similarity"
      ],
      "metadata": {
        "id": "jP2TPiP2MZ_C"
      }
    },
    {
      "cell_type": "code",
      "source": [
        "def calculate_similarity_matrix(sentences):\n",
        "  similarity_matrix = np.zeros((len(sentences), len(sentences)))\n",
        "  #print(similarity_matrix)\n",
        "  for i in range(len(sentences)):\n",
        "    for j in range(len(sentences)):\n",
        "      if i == j:\n",
        "        continue\n",
        "      similarity_matrix[i][j] = calculate_sentence_similarity(sentences[i], sentences[j])\n",
        "  return similarity_matrix"
      ],
      "metadata": {
        "id": "8UXSXlMdvitb"
      },
      "execution_count": 36,
      "outputs": []
    },
    {
      "cell_type": "code",
      "source": [
        "calculate_similarity_matrix(formatted_sentences)"
      ],
      "metadata": {
        "colab": {
          "base_uri": "https://localhost:8080/"
        },
        "id": "oEWwiDLAE9Cq",
        "outputId": "690ad52d-b0d6-4002-eb6d-a459c9c1724d"
      },
      "execution_count": 37,
      "outputs": [
        {
          "output_type": "execute_result",
          "data": {
            "text/plain": [
              "array([[0.        , 0.        , 0.11504475, 0.04428074, 0.04583492,\n",
              "        0.17149859, 0.10341754],\n",
              "       [0.        , 0.        , 0.06741999, 0.        , 0.        ,\n",
              "        0.        , 0.        ],\n",
              "       [0.11504475, 0.06741999, 0.        , 0.        , 0.        ,\n",
              "        0.        , 0.        ],\n",
              "       [0.04428074, 0.        , 0.        , 0.        , 0.        ,\n",
              "        0.0860663 , 0.07784989],\n",
              "       [0.04583492, 0.        , 0.        , 0.        , 0.        ,\n",
              "        0.        , 0.0805823 ],\n",
              "       [0.17149859, 0.        , 0.        , 0.0860663 , 0.        ,\n",
              "        0.        , 0.        ],\n",
              "       [0.10341754, 0.        , 0.        , 0.07784989, 0.0805823 ,\n",
              "        0.        , 0.        ]])"
            ]
          },
          "metadata": {},
          "execution_count": 37
        }
      ]
    },
    {
      "cell_type": "markdown",
      "source": [
        "Function to summarize the texts"
      ],
      "metadata": {
        "id": "MmM56Kn2RAUe"
      }
    },
    {
      "cell_type": "code",
      "source": [
        "def summarize(text, num_of_sentences, percentage=0):\n",
        "  original_sentences = [sentence for sentence in nltk.sent_tokenize(text)]\n",
        "  formatted_sentences = [preprocess(original_sentence) for original_sentence in original_sentences]\n",
        "  similarity_matrix = calculate_similarity_matrix(formatted_sentences)\n",
        "\n",
        "  similarity_graph = nx.from_numpy_array(similarity_matrix)\n",
        "  #print(similarity_graph.nodes)\n",
        "  #print(similarity_graph.edges)\n",
        "\n",
        "  scores = nx.pagerank(similarity_graph)\n",
        "  #print(scores)\n",
        "  ordered_scores = sorted(((scores[i], score) for i, score in enumerate(original_sentences)), reverse = True)\n",
        "  #print(ordered_scores)\n",
        "\n",
        "  if percentage >0:\n",
        "    num_of_sentences = int(len(formatted_sentences)*percentage)\n",
        "\n",
        "  best_sentences = []\n",
        "  for sentence in range(num_of_sentences):\n",
        "    best_sentences.append(ordered_scores[sentence][1])\n",
        "\n",
        "  return original_sentences, best_sentences, ordered_scores\n"
      ],
      "metadata": {
        "id": "DvfngAOYNTKa"
      },
      "execution_count": 60,
      "outputs": []
    },
    {
      "cell_type": "code",
      "source": [
        "summarize(original_text, 3)\n",
        "#nodes give the position\n",
        "#edges give which node is related to which node"
      ],
      "metadata": {
        "colab": {
          "base_uri": "https://localhost:8080/"
        },
        "id": "LIpxg_V7SLPB",
        "outputId": "296c9118-96cf-44be-ba74-3f864be620ea"
      },
      "execution_count": 45,
      "outputs": [
        {
          "output_type": "stream",
          "name": "stdout",
          "text": [
            "[0, 1, 2, 3, 4, 5, 6]\n",
            "[(0, 2), (0, 3), (0, 4), (0, 5), (0, 6), (1, 2), (3, 5), (3, 6), (4, 6)]\n",
            "{0: 0.2809707313331177, 1: 0.06293471007282339, 2: 0.13215400661245982, 3: 0.12681393575768507, 4: 0.08602923713712321, 5: 0.15130377999183206, 6: 0.15979359909495877}\n",
            "[(0.2809707313331177, 'Machine learning (ML) is an umbrella term for solving problems for which development of algorithms by human programmers would be cost-prohibitive, and instead the problems are solved by helping machines discover their own algorithms, without needing to be explicitly told what to do by any human-developed algorithms.'), (0.15979359909495877, 'Although not all machine learning is statistically based, computational statistics is an important source of the fields methods'), (0.15130377999183206, 'ML is known in its application across business problems under the name predictive analytics.'), (0.13215400661245982, 'Machine-learning approaches have been applied to large language models, computer vision, speech recognition, email filtering, agriculture and medicine, where it is too costly to develop algorithms to perform the needed tasks.'), (0.12681393575768507, 'The mathematical foundations of ML are provided by mathematical optimization (mathematical programming) methods.'), (0.08602923713712321, 'Data mining is a related (parallel) field of study, focusing on exploratory data analysis through unsupervised learning.'), (0.06293471007282339, 'Recently, generative artificial neural networks have been able to surpass results of many previous approaches.')]\n"
          ]
        }
      ]
    },
    {
      "cell_type": "code",
      "source": [
        "original_sentences, best_sentences, scores = summarize(original_text, 3)"
      ],
      "metadata": {
        "id": "gQX6nlhuSQDS"
      },
      "execution_count": 47,
      "outputs": []
    },
    {
      "cell_type": "code",
      "source": [
        "original_sentences"
      ],
      "metadata": {
        "colab": {
          "base_uri": "https://localhost:8080/"
        },
        "id": "kpZoRC-ZV2zv",
        "outputId": "627d5790-fad6-4b95-975d-92b936747708"
      },
      "execution_count": 48,
      "outputs": [
        {
          "output_type": "execute_result",
          "data": {
            "text/plain": [
              "['Machine learning (ML) is an umbrella term for solving problems for which development of algorithms by human programmers would be cost-prohibitive, and instead the problems are solved by helping machines discover their own algorithms, without needing to be explicitly told what to do by any human-developed algorithms.',\n",
              " 'Recently, generative artificial neural networks have been able to surpass results of many previous approaches.',\n",
              " 'Machine-learning approaches have been applied to large language models, computer vision, speech recognition, email filtering, agriculture and medicine, where it is too costly to develop algorithms to perform the needed tasks.',\n",
              " 'The mathematical foundations of ML are provided by mathematical optimization (mathematical programming) methods.',\n",
              " 'Data mining is a related (parallel) field of study, focusing on exploratory data analysis through unsupervised learning.',\n",
              " 'ML is known in its application across business problems under the name predictive analytics.',\n",
              " 'Although not all machine learning is statistically based, computational statistics is an important source of the fields methods']"
            ]
          },
          "metadata": {},
          "execution_count": 48
        }
      ]
    },
    {
      "cell_type": "code",
      "source": [
        "best_sentences"
      ],
      "metadata": {
        "colab": {
          "base_uri": "https://localhost:8080/"
        },
        "id": "Fh-7sx8sV4uy",
        "outputId": "9d295a1d-8ec9-4802-ff9e-261907e28957"
      },
      "execution_count": 49,
      "outputs": [
        {
          "output_type": "execute_result",
          "data": {
            "text/plain": [
              "['Machine learning (ML) is an umbrella term for solving problems for which development of algorithms by human programmers would be cost-prohibitive, and instead the problems are solved by helping machines discover their own algorithms, without needing to be explicitly told what to do by any human-developed algorithms.',\n",
              " 'Although not all machine learning is statistically based, computational statistics is an important source of the fields methods',\n",
              " 'ML is known in its application across business problems under the name predictive analytics.']"
            ]
          },
          "metadata": {},
          "execution_count": 49
        }
      ]
    },
    {
      "cell_type": "code",
      "source": [
        "scores"
      ],
      "metadata": {
        "colab": {
          "base_uri": "https://localhost:8080/"
        },
        "id": "zvJHD3BLV5uu",
        "outputId": "592b4622-57d4-4d8f-84a4-620276472eff"
      },
      "execution_count": 50,
      "outputs": [
        {
          "output_type": "execute_result",
          "data": {
            "text/plain": [
              "[(0.2809707313331177,\n",
              "  'Machine learning (ML) is an umbrella term for solving problems for which development of algorithms by human programmers would be cost-prohibitive, and instead the problems are solved by helping machines discover their own algorithms, without needing to be explicitly told what to do by any human-developed algorithms.'),\n",
              " (0.15979359909495877,\n",
              "  'Although not all machine learning is statistically based, computational statistics is an important source of the fields methods'),\n",
              " (0.15130377999183206,\n",
              "  'ML is known in its application across business problems under the name predictive analytics.'),\n",
              " (0.13215400661245982,\n",
              "  'Machine-learning approaches have been applied to large language models, computer vision, speech recognition, email filtering, agriculture and medicine, where it is too costly to develop algorithms to perform the needed tasks.'),\n",
              " (0.12681393575768507,\n",
              "  'The mathematical foundations of ML are provided by mathematical optimization (mathematical programming) methods.'),\n",
              " (0.08602923713712321,\n",
              "  'Data mining is a related (parallel) field of study, focusing on exploratory data analysis through unsupervised learning.'),\n",
              " (0.06293471007282339,\n",
              "  'Recently, generative artificial neural networks have been able to surpass results of many previous approaches.')]"
            ]
          },
          "metadata": {},
          "execution_count": 50
        }
      ]
    },
    {
      "cell_type": "code",
      "source": [
        "def visualize(title, sentence_list, best_sentences):\n",
        "  from IPython.core.display import HTML\n",
        "  text = \"\"\n",
        "  display(HTML(f'<h1>Summary - {title}</h1>'))\n",
        "  for sentence in sentence_list:\n",
        "    #print(sentence)\n",
        "    #text += sentence\n",
        "    if sentence in best_sentences:\n",
        "      text += \" \"+sentence.replace(sentence, f\"<mark>{sentence}</mark>\")\n",
        "    else:\n",
        "      text += \" \"+sentence\n",
        "  display(HTML(f\"\"\"{text}\"\"\"))"
      ],
      "metadata": {
        "id": "gWdf45cUV9yH"
      },
      "execution_count": 51,
      "outputs": []
    },
    {
      "cell_type": "code",
      "source": [
        "visualize('ML', original_sentences, best_sentences)"
      ],
      "metadata": {
        "colab": {
          "base_uri": "https://localhost:8080/",
          "height": 179
        },
        "id": "wFQJAkRuawGq",
        "outputId": "008f9744-aef1-4332-b731-79161686c248"
      },
      "execution_count": 53,
      "outputs": [
        {
          "output_type": "display_data",
          "data": {
            "text/plain": [
              "<IPython.core.display.HTML object>"
            ],
            "text/html": [
              "<h1>Summary - ML</h1>"
            ]
          },
          "metadata": {}
        },
        {
          "output_type": "display_data",
          "data": {
            "text/plain": [
              "<IPython.core.display.HTML object>"
            ],
            "text/html": [
              " <mark>Machine learning (ML) is an umbrella term for solving problems for which development of algorithms by human programmers would be cost-prohibitive, and instead the problems are solved by helping machines discover their own algorithms, without needing to be explicitly told what to do by any human-developed algorithms.</mark> Recently, generative artificial neural networks have been able to surpass results of many previous approaches. Machine-learning approaches have been applied to large language models, computer vision, speech recognition, email filtering, agriculture and medicine, where it is too costly to develop algorithms to perform the needed tasks. The mathematical foundations of ML are provided by mathematical optimization (mathematical programming) methods. Data mining is a related (parallel) field of study, focusing on exploratory data analysis through unsupervised learning. <mark>ML is known in its application across business problems under the name predictive analytics.</mark> <mark>Although not all machine learning is statistically based, computational statistics is an important source of the fields methods</mark>"
            ]
          },
          "metadata": {}
        }
      ]
    },
    {
      "cell_type": "code",
      "source": [
        "!pip install goose3"
      ],
      "metadata": {
        "colab": {
          "base_uri": "https://localhost:8080/"
        },
        "id": "jvIwDJWSa2_c",
        "outputId": "5dbe1c94-4c61-4cb8-e052-acb13e013e69"
      },
      "execution_count": 54,
      "outputs": [
        {
          "output_type": "stream",
          "name": "stdout",
          "text": [
            "Collecting goose3\n",
            "  Downloading goose3-3.1.17-py3-none-any.whl (88 kB)\n",
            "\u001b[?25l     \u001b[90m━━━━━━━━━━━━━━━━━━━━━━━━━━━━━━━━━━━━━━━━\u001b[0m \u001b[32m0.0/88.7 kB\u001b[0m \u001b[31m?\u001b[0m eta \u001b[36m-:--:--\u001b[0m\r\u001b[2K     \u001b[91m━━━━━━━━━━━━━━━━━━━━━━━━━━━━━━━━━━━━\u001b[0m\u001b[91m╸\u001b[0m\u001b[90m━━━\u001b[0m \u001b[32m81.9/88.7 kB\u001b[0m \u001b[31m2.6 MB/s\u001b[0m eta \u001b[36m0:00:01\u001b[0m\r\u001b[2K     \u001b[90m━━━━━━━━━━━━━━━━━━━━━━━━━━━━━━━━━━━━━━━━\u001b[0m \u001b[32m88.7/88.7 kB\u001b[0m \u001b[31m2.0 MB/s\u001b[0m eta \u001b[36m0:00:00\u001b[0m\n",
            "\u001b[?25hRequirement already satisfied: requests in /usr/local/lib/python3.10/dist-packages (from goose3) (2.31.0)\n",
            "Requirement already satisfied: Pillow in /usr/local/lib/python3.10/dist-packages (from goose3) (9.4.0)\n",
            "Requirement already satisfied: lxml in /usr/local/lib/python3.10/dist-packages (from goose3) (4.9.3)\n",
            "Collecting cssselect (from goose3)\n",
            "  Downloading cssselect-1.2.0-py2.py3-none-any.whl (18 kB)\n",
            "Requirement already satisfied: beautifulsoup4 in /usr/local/lib/python3.10/dist-packages (from goose3) (4.11.2)\n",
            "Requirement already satisfied: python-dateutil in /usr/local/lib/python3.10/dist-packages (from goose3) (2.8.2)\n",
            "Collecting langdetect (from goose3)\n",
            "  Downloading langdetect-1.0.9.tar.gz (981 kB)\n",
            "\u001b[2K     \u001b[90m━━━━━━━━━━━━━━━━━━━━━━━━━━━━━━━━━━━━━━\u001b[0m \u001b[32m981.5/981.5 kB\u001b[0m \u001b[31m17.0 MB/s\u001b[0m eta \u001b[36m0:00:00\u001b[0m\n",
            "\u001b[?25h  Preparing metadata (setup.py) ... \u001b[?25l\u001b[?25hdone\n",
            "Collecting pyahocorasick (from goose3)\n",
            "  Downloading pyahocorasick-2.0.0-cp310-cp310-manylinux_2_5_x86_64.manylinux1_x86_64.manylinux_2_12_x86_64.manylinux2010_x86_64.whl (110 kB)\n",
            "\u001b[2K     \u001b[90m━━━━━━━━━━━━━━━━━━━━━━━━━━━━━━━━━━━━━━\u001b[0m \u001b[32m110.8/110.8 kB\u001b[0m \u001b[31m10.4 MB/s\u001b[0m eta \u001b[36m0:00:00\u001b[0m\n",
            "\u001b[?25hRequirement already satisfied: soupsieve>1.2 in /usr/local/lib/python3.10/dist-packages (from beautifulsoup4->goose3) (2.5)\n",
            "Requirement already satisfied: six in /usr/local/lib/python3.10/dist-packages (from langdetect->goose3) (1.16.0)\n",
            "Requirement already satisfied: charset-normalizer<4,>=2 in /usr/local/lib/python3.10/dist-packages (from requests->goose3) (3.2.0)\n",
            "Requirement already satisfied: idna<4,>=2.5 in /usr/local/lib/python3.10/dist-packages (from requests->goose3) (3.4)\n",
            "Requirement already satisfied: urllib3<3,>=1.21.1 in /usr/local/lib/python3.10/dist-packages (from requests->goose3) (2.0.4)\n",
            "Requirement already satisfied: certifi>=2017.4.17 in /usr/local/lib/python3.10/dist-packages (from requests->goose3) (2023.7.22)\n",
            "Building wheels for collected packages: langdetect\n",
            "  Building wheel for langdetect (setup.py) ... \u001b[?25l\u001b[?25hdone\n",
            "  Created wheel for langdetect: filename=langdetect-1.0.9-py3-none-any.whl size=993224 sha256=80e31d5f0e8a9e2d12ee49df944bec77fd23fb67ff3563c3e025cf9925333a8c\n",
            "  Stored in directory: /root/.cache/pip/wheels/95/03/7d/59ea870c70ce4e5a370638b5462a7711ab78fba2f655d05106\n",
            "Successfully built langdetect\n",
            "Installing collected packages: pyahocorasick, langdetect, cssselect, goose3\n",
            "Successfully installed cssselect-1.2.0 goose3-3.1.17 langdetect-1.0.9 pyahocorasick-2.0.0\n"
          ]
        }
      ]
    },
    {
      "cell_type": "code",
      "source": [
        "g = Goose()\n",
        "url = 'https://en.wikipedia.org/wiki/Automatic_summarization'\n",
        "article = g.extract(url)"
      ],
      "metadata": {
        "id": "YTApv9IYbucb"
      },
      "execution_count": 56,
      "outputs": []
    },
    {
      "cell_type": "code",
      "source": [
        "original_sentences, best_sentences, scores = summarize(article.cleaned_text, 120, 0.5)"
      ],
      "metadata": {
        "id": "URSXxnUJbyMn"
      },
      "execution_count": 63,
      "outputs": []
    },
    {
      "cell_type": "code",
      "source": [
        "visualize(article.title, original_sentences, best_sentences)"
      ],
      "metadata": {
        "colab": {
          "base_uri": "https://localhost:8080/",
          "height": 1000
        },
        "id": "pVTYQyO5cLLP",
        "outputId": "66f5271a-b4f5-48cf-cde3-c37658e578f0"
      },
      "execution_count": 64,
      "outputs": [
        {
          "output_type": "display_data",
          "data": {
            "text/plain": [
              "<IPython.core.display.HTML object>"
            ],
            "text/html": [
              "<h1>Summary - Automatic summarization - Wikipedia</h1>"
            ]
          },
          "metadata": {}
        },
        {
          "output_type": "display_data",
          "data": {
            "text/plain": [
              "<IPython.core.display.HTML object>"
            ],
            "text/html": [
              " <mark>Automatic summarization is the process of shortening a set of data computationally, to create a subset (a summary) that represents the most important or relevant information within the original content.</mark> Artificial intelligence algorithms are commonly developed and employed to achieve this, specialized for different types of data. <mark>Text summarization is usually implemented by natural language processing methods, designed to locate the most informative sentences in a given document.</mark> [1] On the other hand, visual content can be summarized using computer vision algorithms. <mark>Image summarization is the subject of ongoing research; existing approaches typically attempt to display the most representative images from a given image collection, or generate a video that only includes the most important content from the entire collection.</mark> <mark>[2][3][4] Video summarization algorithms identify and extract from the original video content the most important frames (key-frames), and/or the most important video segments (key-shots), normally in a temporally ordered fashion.</mark> [5][6][7][8] Video summaries simply retain a carefully selected subset of the original video frames and, therefore, are not identical to the output of video synopsis algorithms, where new video frames are being synthesized based on the original video content. <mark>There are two general approaches to automatic summarization: extraction and abstraction.</mark> Here, content is extracted from the original data, but the extracted content is not modified in any way. <mark>Examples of extracted content include key-phrases that can be used to \"tag\" or index a text document, or key sentences (including headings) that collectively comprise an abstract, and representative images or video segments, as stated above.</mark> <mark>For text, extraction is analogous to the process of skimming, where the summary (if available), headings and subheadings, figures, the first and last paragraphs of a section, and optionally the first and last sentences in a paragraph are read before one chooses to read the entire document in detail.</mark> [10] Other examples of extraction that include key sequences of text in terms of clinical relevance (including patient/problem, intervention, and outcome). <mark>[11]\n",
              "\n",
              "Abstractive summarization methods generate new text that did not exist in the original text.</mark> [12] This has been applied mainly for text. <mark>Abstractive methods build an internal semantic representation of the original content (often called a language model), and then use this representation to create a summary that is closer to what a human might express.</mark> <mark>Abstraction may transform the extracted content by paraphrasing sections of the source document, to condense a text more strongly than extraction.</mark> <mark>Such transformation, however, is computationally much more challenging than extraction, involving both natural language processing and often a deep understanding of the domain of the original text in cases where the original document relates to a special field of knowledge.</mark> <mark>\"Paraphrasing\" is even more difficult to apply to images and videos, which is why most summarization systems are extractive.</mark> <mark>Approaches aimed at higher summarization quality rely on combined software and human effort.</mark> <mark>In Machine Aided Human Summarization, extractive techniques highlight candidate passages for inclusion (to which the human adds or removes text).</mark> <mark>In Human Aided Machine Summarization, a human post-processes software output, in the same way that one edits the output of automatic translation by Google Translate.</mark> <mark>There are broadly two types of extractive summarization tasks depending on what the summarization program focuses on.</mark> <mark>The first is generic summarization, which focuses on obtaining a generic summary or abstract of the collection (whether documents, or sets of images, or videos, news stories etc.).</mark> <mark>The second is query relevant summarization, sometimes called query-based summarization, which summarizes objects specific to a query.</mark> <mark>Summarization systems are able to create both query relevant text summaries and generic machine-generated summaries depending on what the user needs.</mark> <mark>An example of a summarization problem is document summarization, which attempts to automatically produce an abstract from a given document.</mark> <mark>Sometimes one might be interested in generating a summary from a single source document, while others can use multiple source documents (for example, a cluster of articles on the same topic).</mark> <mark>This problem is called multi-document summarization.</mark> A related application is summarizing news articles. Imagine a system, which automatically pulls together news articles on a given topic (from the web), and concisely represents the latest news as a summary. <mark>Image collection summarization is another application example of automatic summarization.</mark> It consists in selecting a representative set of images from a larger set of images. [13] A summary in this context is useful to show the most representative images of results in an image collection exploration system. <mark>Video summarization is a related domain, where the system automatically creates a trailer of a long video.</mark> This also has applications in consumer or personal videos, where one might want to skip the boring or repetitive actions. Similarly, in surveillance videos, one would want to extract important and suspicious activity, while ignoring all the boring and redundant frames captured. <mark>At a very high level, summarization algorithms try to find subsets of objects (like set of sentences, or a set of images), which cover information of the entire set.</mark> This is also called the core-set. <mark>These algorithms model notions like diversity, coverage, information and representativeness of the summary.</mark> <mark>Query based summarization techniques, additionally model for relevance of the summary with the query.</mark> <mark>Some techniques and algorithms which naturally model summarization problems are TextRank and PageRank, Submodular set function, Determinantal point process, maximal marginal relevance (MMR) etc.</mark> The task is the following. You are given a piece of text, such as a journal article, and you must produce a list of keywords or key[phrase]s that capture the primary topics discussed in the text. <mark>[14] In the case of research articles, many authors provide manually assigned keywords, but most text lacks pre-existing keyphrases.</mark> <mark>For example, news articles rarely have keyphrases attached, but it would be useful to be able to automatically do so for a number of applications discussed below.</mark> <mark>Consider the example text from a news article:\n",
              "\n",
              "A keyphrase extractor might select \"Army Corps of Engineers\", \"President Bush\", \"New Orleans\", and \"defective flood-control pumps\" as keyphrases.</mark> These are pulled directly from the text. <mark>In contrast, an abstractive keyphrase system would somehow internalize the content and generate keyphrases that do not appear in the text, but more closely resemble what a human might produce, such as \"political negligence\" or \"inadequate protection from floods\".</mark> Abstraction requires a deep understanding of the text, which makes it difficult for a computer system. <mark>Keyphrases have many applications.</mark> <mark>They can enable document browsing by providing a short summary, improve information retrieval (if documents have keyphrases assigned, a user could search by keyphrase to produce more reliable hits than a full-text search), and be employed in generating index entries for a large text corpus.</mark> Depending on the different literature and the definition of key terms, words or phrases, keyword extraction is a highly related theme. Beginning with the work of Turney,[15] many researchers have approached keyphrase extraction as a supervised machine learning problem. <mark>Given a document, we construct an example for each unigram, bigram, and trigram found in the text (though other text units are also possible, as discussed below).</mark> We then compute various features describing each example (e.g., does the phrase begin with an upper-case letter?). <mark>We assume there are known keyphrases available for a set of training documents.</mark> <mark>Using the known keyphrases, we can assign positive or negative labels to the examples.</mark> Then we learn a classifier that can discriminate between positive and negative examples as a function of the features. Some classifiers make a binary classification for a test example, while others assign a probability of being a keyphrase. <mark>For instance, in the above text, we might learn a rule that says phrases with initial capital letters are likely to be keyphrases.</mark> After training a learner, we can select keyphrases for test documents in the following manner. We apply the same example-generation strategy to the test documents, then run each example through the learner. We can determine the keyphrases by looking at binary classification decisions or probabilities returned from our learned model. <mark>If probabilities are given, a threshold is used to select the keyphrases.</mark> Keyphrase extractors are generally evaluated using precision and recall. Precision measures how many of the proposed keyphrases are actually correct. <mark>Recall measures how many of the true keyphrases your system proposed.</mark> The two measures can be combined in an F-score, which is the harmonic mean of the two (F = 2PR/(P + R) ). <mark>Matches between the proposed keyphrases and the known keyphrases can be checked after stemming or applying some other text normalization.</mark> Designing a supervised keyphrase extraction system involves deciding on several choices (some of these apply to unsupervised, too). The first choice is exactly how to generate examples. Turney and others have used all possible unigrams, bigrams, and trigrams without intervening punctuation and after removing stopwords. Hulth showed that you can get some improvement by selecting examples to be sequences of tokens that match certain patterns of part-of-speech tags. Ideally, the mechanism for generating examples produces all the known labeled keyphrases as candidates, though this is often not the case. For example, if we use only unigrams, bigrams, and trigrams, then we will never be able to extract a known keyphrase containing four words. Thus, recall may suffer. However, generating too many examples can also lead to low precision. <mark>We also need to create features that describe the examples and are informative enough to allow a learning algorithm to discriminate keyphrases from non- keyphrases.</mark> <mark>Typically features involve various term frequencies (how many times a phrase appears in the current text or in a larger corpus), the length of the example, relative position of the first occurrence, various boolean syntactic features (e.g., contains all caps), etc.</mark> The Turney paper used about 12 such features. <mark>Hulth uses a reduced set of features, which were found most successful in the KEA (Keyphrase Extraction Algorithm) work derived from Turney's seminal paper.</mark> <mark>In the end, the system will need to return a list of keyphrases for a test document, so we need to have a way to limit the number.</mark> <mark>Ensemble methods (i.e., using votes from several classifiers) have been used to produce numeric scores that can be thresholded to provide a user-provided number of keyphrases.</mark> This is the technique used by Turney with C4.5 decision trees. Hulth used a single binary classifier so the learning algorithm implicitly determines the appropriate number. <mark>Once examples and features are created, we need a way to learn to predict keyphrases.</mark> Virtually any supervised learning algorithm could be used, such as decision trees, Naive Bayes, and rule induction. <mark>In the case of Turney's GenEx algorithm, a genetic algorithm is used to learn parameters for a domain-specific keyphrase extraction algorithm.</mark> The extractor follows a series of heuristics to identify keyphrases. The genetic algorithm optimizes parameters for these heuristics with respect to performance on training documents with known key phrases. <mark>Another keyphrase extraction algorithm is TextRank.</mark> <mark>While supervised methods have some nice properties, like being able to produce interpretable rules for what features characterize a keyphrase, they also require a large amount of training data.</mark> <mark>Many documents with known keyphrases are needed.</mark> Furthermore, training on a specific domain tends to customize the extraction process to that domain, so the resulting classifier is not necessarily portable, as some of Turney's results demonstrate. Unsupervised keyphrase extraction removes the need for training data. It approaches the problem from a different angle. <mark>Instead of trying to learn explicit features that characterize keyphrases, the TextRank algorithm[16] exploits the structure of the text itself to determine keyphrases that appear \"central\" to the text in the same way that PageRank selects important Web pages.</mark> <mark>Recall this is based on the notion of \"prestige\" or \"recommendation\" from social networks.</mark> <mark>In this way, TextRank does not rely on any previous training data at all, but rather can be run on any arbitrary piece of text, and it can produce output simply based on the text's intrinsic properties.</mark> Thus the algorithm is easily portable to new domains and languages. TextRank is a general purpose graph-based ranking algorithm for NLP. Essentially, it runs PageRank on a graph specially designed for a particular NLP task. <mark>For keyphrase extraction, it builds a graph using some set of text units as vertices.</mark> <mark>Edges are based on some measure of semantic or lexical similarity between the text unit vertices.</mark> Unlike PageRank, the edges are typically undirected and can be weighted to reflect a degree of similarity. <mark>Once the graph is constructed, it is used to form a stochastic matrix, combined with a damping factor (as in the \"random surfer model\"), and the ranking over vertices is obtained by finding the eigenvector corresponding to eigenvalue 1 (i.e., the stationary distribution of the random walk on the graph).</mark> The vertices should correspond to what we want to rank. Potentially, we could do something similar to the supervised methods and create a vertex for each unigram, bigram, trigram, etc. However, to keep the graph small, the authors decide to rank individual unigrams in a first step, and then include a second step that merges highly ranked adjacent unigrams to form multi-word phrases. This has a nice side effect of allowing us to produce keyphrases of arbitrary length. <mark>For example, if we rank unigrams and find that \"advanced\", \"natural\", \"language\", and \"processing\" all get high ranks, then we would look at the original text and see that these words appear consecutively and create a final keyphrase using all four together.</mark> Note that the unigrams placed in the graph can be filtered by part of speech. The authors found that adjectives and nouns were the best to include. Thus, some linguistic knowledge comes into play in this step. Edges are created based on word co-occurrence in this application of TextRank. <mark>Two vertices are connected by an edge if the unigrams appear within a window of size N in the original text.</mark> N is typically around 2–10. <mark>Thus, \"natural\" and \"language\" might be linked in a text about NLP.</mark> <mark>\"Natural\" and \"processing\" would also be linked because they would both appear in the same string of N words.</mark> <mark>These edges build on the notion of \"text cohesion\" and the idea that words that appear near each other are likely related in a meaningful way and \"recommend\" each other to the reader.</mark> Since this method simply ranks the individual vertices, we need a way to threshold or produce a limited number of keyphrases. The technique chosen is to set a count T to be a user-specified fraction of the total number of vertices in the graph. Then the top T vertices/unigrams are selected based on their stationary probabilities. A post- processing step is then applied to merge adjacent instances of these T unigrams. <mark>As a result, potentially more or less than T final keyphrases will be produced, but the number should be roughly proportional to the length of the original text.</mark> It is not initially clear why applying PageRank to a co-occurrence graph would produce useful keyphrases. One way to think about it is the following. A word that appears multiple times throughout a text may have many different co-occurring neighbors. <mark>For example, in a text about machine learning, the unigram \"learning\" might co-occur with \"machine\", \"supervised\", \"un-supervised\", and \"semi-supervised\" in four different sentences.</mark> <mark>Thus, the \"learning\" vertex would be a central \"hub\" that connects to these other modifying words.</mark> <mark>Running PageRank/TextRank on the graph is likely to rank \"learning\" highly.</mark> <mark>Similarly, if the text contains the phrase \"supervised classification\", then there would be an edge between \"supervised\" and \"classification\".</mark> <mark>If \"classification\" appears several other places and thus has many neighbors, its importance would contribute to the importance of \"supervised\".</mark> <mark>If it ends up with a high rank, it will be selected as one of the top T unigrams, along with \"learning\" and probably \"classification\".</mark> <mark>In the final post-processing step, we would then end up with keyphrases \"supervised learning\" and \"supervised classification\".</mark> In short, the co-occurrence graph will contain densely connected regions for terms that appear often and in different contexts. A random walk on this graph will have a stationary distribution that assigns large probabilities to the terms in the centers of the clusters. This is similar to densely connected Web pages getting ranked highly by PageRank. <mark>This approach has also been used in document summarization, considered below.</mark> <mark>Like keyphrase extraction, document summarization aims to identify the essence of a text.</mark> The only real difference is that now we are dealing with larger text units—whole sentences instead of words and phrases. <mark>Supervised text summarization is very much like supervised keyphrase extraction.</mark> <mark>Basically, if you have a collection of documents and human-generated summaries for them, you can learn features of sentences that make them good candidates for inclusion in the summary.</mark> <mark>Features might include the position in the document (i.e., the first few sentences are probably important), the number of words in the sentence, etc.</mark> <mark>The main difficulty in supervised extractive summarization is that the known summaries must be manually created by extracting sentences so the sentences in an original training document can be labeled as \"in summary\" or \"not in summary\".</mark> This is not typically how people create summaries, so simply using journal abstracts or existing summaries is usually not sufficient. <mark>The sentences in these summaries do not necessarily match up with sentences in the original text, so it would be difficult to assign labels to examples for training.</mark> <mark>Note, however, that these natural summaries can still be used for evaluation purposes, since ROUGE-1 evaluation only considers unigrams.</mark> <mark>During the DUC 2001 and 2002 evaluation workshops, TNO developed a sentence extraction system for multi-document summarization in the news domain.</mark> The system was based on a hybrid system using a Naive Bayes classifier and statistical language models for modeling salience. <mark>Although the system exhibited good results, the researchers wanted to explore the effectiveness of a maximum entropy (ME) classifier for the meeting summarization task, as ME is known to be robust against feature dependencies.</mark> <mark>Maximum entropy has also been applied successfully for summarization in the broadcast news domain.</mark> <mark>A promising approach is adaptive document/text summarization.</mark> <mark>[17] It involves first recognizing the text genre and then applying summarization algorithms optimized for this genre.</mark> Such software has been created. <mark>[18]\n",
              "\n",
              "The unsupervised approach to summarization is also quite similar in spirit to unsupervised keyphrase extraction and gets around the issue of costly training data.</mark> <mark>Some unsupervised summarization approaches are based on finding a \"centroid\" sentence, which is the mean word vector of all the sentences in the document.</mark> Then the sentences can be ranked with regard to their similarity to this centroid sentence. A more principled way to estimate sentence importance is using random walks and eigenvector centrality. <mark>LexRank[19] is an algorithm essentially identical to TextRank, and both use this approach for document summarization.</mark> <mark>The two methods were developed by different groups at the same time, and LexRank simply focused on summarization, but could just as easily be used for keyphrase extraction or any other NLP ranking task.</mark> In both LexRank and TextRank, a graph is constructed by creating a vertex for each sentence in the document. The edges between sentences are based on some form of semantic similarity or content overlap. <mark>While LexRank uses cosine similarity of TF-IDF vectors, TextRank uses a very similar measure based on the number of words two sentences have in common (normalized by the sentences' lengths).</mark> The LexRank paper explored using unweighted edges after applying a threshold to the cosine values, but also experimented with using edges with weights equal to the similarity score. TextRank uses continuous similarity scores as weights. In both algorithms, the sentences are ranked by applying PageRank to the resulting graph. <mark>A summary is formed by combining the top ranking sentences, using a threshold or length cutoff to limit the size of the summary.</mark> <mark>It is worth noting that TextRank was applied to summarization exactly as described here, while LexRank was used as part of a larger summarization system (MEAD) that combines the LexRank score (stationary probability) with other features like sentence position and length using a linear combination with either user-specified or automatically tuned weights.</mark> In this case, some training documents might be needed, though the TextRank results show the additional features are not absolutely necessary. <mark>Unlike TextRank, LexRank has been applied to multi-document summarization.</mark> <mark>Multi-document summarization is an automatic procedure aimed at extraction of information from multiple texts written about the same topic.</mark> Resulting summary report allows individual users, such as professional information consumers, to quickly familiarize themselves with information contained in a large cluster of documents. <mark>In such a way, multi-document summarization systems are complementing the news aggregators performing the next step down the road of coping with information overload.</mark> <mark>Multi-document summarization may also be done in response to a question.</mark> <mark>[20][11]\n",
              "\n",
              "Multi-document summarization creates information reports that are both concise and comprehensive.</mark> With different opinions being put together and outlined, every topic is described from multiple perspectives within a single document. While the goal of a brief summary is to simplify information search and cut the time by pointing to the most relevant source documents, comprehensive multi-document summary should itself contain the required information, hence limiting the need for accessing original files to cases when refinement is required. Automatic summaries present information extracted from multiple sources algorithmically, without any editorial touch or subjective human intervention, thus making it completely unbiased. <mark>[dubious – discuss]\n",
              "\n",
              "Multi-document extractive summarization faces a problem of redundancy.</mark> <mark>Ideally, we want to extract sentences that are both \"central\" (i.e., contain the main ideas) and \"diverse\" (i.e., they differ from one another).</mark> <mark>For example, in a set of news articles about some event, each article is likely to have many similar sentences.</mark> To address this issue, LexRank applies a heuristic post-processing step that adds sentences in rank order, but discards sentences that are too similar to ones already in the summary. This method is called Cross-Sentence Information Subsumption (CSIS). <mark>These methods work based on the idea that sentences \"recommend\" other similar sentences to the reader.</mark> Thus, if one sentence is very similar to many others, it will likely be a sentence of great importance. <mark>Its importance also stems from the importance of the sentences \"recommending\" it.</mark> <mark>Thus, to get ranked highly and placed in a summary, a sentence must be similar to many sentences that are in turn also similar to many other sentences.</mark> This makes intuitive sense and allows the algorithms to be applied to an arbitrary new text. The methods are domain-independent and easily portable. One could imagine the features indicating important sentences in the news domain might vary considerably from the biomedical domain. <mark>However, the unsupervised \"recommendation\"-based approach applies to any domain.</mark> <mark>A related method is Maximal Marginal Relevance (MMR),[21] which uses a general-purpose graph-based ranking algorithm like Page/Lex/TextRank that handles both \"centrality\" and \"diversity\" in a unified mathematical framework based on absorbing Markov chain random walks (a random walk where certain states end the walk).</mark> The algorithm is called GRASSHOPPER. <mark>[22] In addition to explicitly promoting diversity during the ranking process, GRASSHOPPER incorporates a prior ranking (based on sentence position in the case of summarization).</mark> <mark>The state of the art results for multi-document summarization are obtained using mixtures of submodular functions.</mark> <mark>These methods have achieved the state of the art results for Document Summarization Corpora, DUC 04 - 07.</mark> [23] Similar results were achieved with the use of determinantal point processes (which are a special case of submodular functions) for DUC-04. <mark>[24]\n",
              "\n",
              "A new method for multi-lingual multi-document summarization that avoids redundancy generates ideograms to represent the meaning of each sentence in each document, then evaluates similarity by comparing ideogram shape and position.</mark> It does not use word frequency, training or preprocessing. It uses two user-supplied parameters: equivalence (when are two sentences to be considered equivalent?) and relevance (how long is the desired summary?). <mark>The idea of a submodular set function has recently emerged as a powerful modeling tool for various summarization problems.</mark> <mark>Submodular functions naturally model notions of coverage, information, representation and diversity.</mark> Moreover, several important combinatorial optimization problems occur as special instances of submodular optimization. <mark>For example, the set cover problem is a special case of submodular optimization, since the set cover function is submodular.</mark> The set cover function attempts to find a subset of objects which cover a given set of concepts. <mark>For example, in document summarization, one would like the summary to cover all important and relevant concepts in the document.</mark> This is an instance of set cover. Similarly, the facility location problem is a special case of submodular functions. The Facility Location function also naturally models coverage and diversity. <mark>Another example of a submodular optimization problem is using a determinantal point process to model diversity.</mark> Similarly, the Maximum-Marginal-Relevance procedure can also be seen as an instance of submodular optimization. <mark>All these important models encouraging coverage, diversity and information are all submodular.</mark> Moreover, submodular functions can be efficiently combined, and the resulting function is still submodular. <mark>Hence, one could combine one submodular function which models diversity, another one which models coverage and use human supervision to learn a right model of a submodular function for the problem.</mark> <mark>While submodular functions are fitting problems for summarization, they also admit very efficient algorithms for optimization.</mark> For example, a simple greedy algorithm admits a constant factor guarantee. <mark>[25] Moreover, the greedy algorithm is extremely simple to implement and can scale to large datasets, which is very important for summarization problems.</mark> <mark>Submodular functions have achieved state-of-the-art for almost all summarization problems.</mark> <mark>For example, work by Lin and Bilmes, 2012[26] shows that submodular functions achieve the best results to date on DUC-04, DUC-05, DUC-06 and DUC-07 systems for document summarization.</mark> <mark>Similarly, work by Lin and Bilmes, 2011,[27] shows that many existing systems for automatic summarization are instances of submodular functions.</mark> <mark>This was a breakthrough result establishing submodular functions as the right models for summarization problems.</mark> <mark>[citation needed]\n",
              "\n",
              "Submodular Functions have also been used for other summarization tasks.</mark> <mark>Tschiatschek et al., 2014 show[28] that mixtures of submodular functions achieve state-of-the-art results for image collection summarization.</mark> Similarly, Bairi et al., 2015[29] show the utility of submodular functions for summarizing multi-document topic hierarchies. <mark>Submodular Functions have also successfully been used for summarizing machine learning datasets.</mark> <mark>[30]\n",
              "• The Reddit bot \"autotldr\",[31] created in 2011 summarizes news articles in the comment-section of reddit posts.</mark> It was found to be very useful by the reddit community which upvoted its summaries hundreds of thousands of times. <mark>[32] The name is reference to TL;DR − Internet slang for \"too long; didn't read\".</mark> [33][34]\n",
              "• Adversarial stylometry may make use of summaries, if the detail lost is not major and the summary is sufficiently stylistically different to the input. <mark>The most common way to evaluate the informativeness of automatic summaries is to compare them with human-made model summaries.</mark> Evaluation can be intrinsic or extrinsic,[36] and inter-textual or intra-textual. <mark>[37]\n",
              "\n",
              "Intrinsic evaluation assesses the summaries directly, while extrinsic evaluation evaluates how the summarization system affects the completion of some other task.</mark> Intrinsic evaluations have assessed mainly the coherence and informativeness of summaries. Extrinsic evaluations, on the other hand, have tested the impact of summarization on tasks like relevance assessment, reading comprehension, etc. <mark>Intra-textual evaluation assess the output of a specific summarization system, while inter-textual evaluation focuses on contrastive analysis of outputs of several summarization systems.</mark> <mark>Human judgement often varies greatly in what it considers a \"good\" summary, so creating an automatic evaluation process is particularly difficult.</mark> <mark>Manual evaluation can be used, but this is both time and labor-intensive, as it requires humans to read not only the summaries but also the source documents.</mark> Other issues are those concerning coherence and coverage. The most common way to evaluate summaries is ROUGE (Recall-Oriented Understudy for Gisting Evaluation). <mark>It is very common for summarization and translation systems in NIST's Document Understanding Conferences.</mark> [2] ROUGE is a recall-based measure of how well a summary covers the content of human-generated summaries known as references. It calculates n-gram overlaps between automatically generated summaries and previously written human summaries. It is recall-based to encourage inclusion of all important topics in summaries. Recall can be computed with respect to unigram, bigram, trigram, or 4-gram matching. <mark>For example, ROUGE-1 is the fraction of unigrams that appear in both the reference summary and the automatic summary out of all unigrams in the reference summary.</mark> If there are multiple reference summaries, their scores are averaged. A high level of overlap should indicate a high degree of shared concepts between the two summaries. ROUGE cannot determine if the result is coherent, that is if sentences flow together in a sensibly. High-order n-gram ROUGE measures help to some degree. Another unsolved problem is Anaphor resolution. <mark>Similarly, for image summarization, Tschiatschek et al., developed a Visual-ROUGE score which judges the performance of algorithms for image summarization.</mark> <mark>[38]\n",
              "\n",
              "Domain-independent summarization techniques apply sets of general features to identify information-rich text segments.</mark> <mark>Recent research focuses on domain-specific summarization using knowledge specific to the text's domain, such as medical knowledge and ontologies for summarizing medical texts.</mark> <mark>[39]\n",
              "\n",
              "The main drawback of the evaluation systems so far is that we need a reference summary (for some methods, more than one), to compare automatic summaries with models.</mark> This is a hard and expensive task. Much effort has to be made to create corpora of texts and their corresponding summaries. Furthermore, some methods require manual annotation of the summaries (e.g. SCU in the Pyramid Method). Moreover, they all perform a quantitative evaluation with regard to different similarity metrics. The first publication in the area dates back to 1957 [40] (Hans Peter Luhn), starting with a statistical technique. Research increased significantly in 2015. Term frequency–inverse document frequency had been used by 2016. <mark>Pattern-based summarization was the most powerful option for multi-document summarization found by 2016.</mark> In the following year it was surpassed by latent semantic analysis (LSA) combined with non-negative matrix factorization (NMF). <mark>Although they did not replace other approaches and are often combined with them, by 2019 machine learning methods dominated the extractive summarization of single documents, which was considered to be nearing maturity.</mark> By 2020, the field was still very active and research is shifting towards abstractive summation and real-time summarization. <mark>[41]\n",
              "\n",
              "Recently the rise of transformer models replacing more traditional RNN (LSTM) have provided a flexibility in the mapping of text sequences to text sequences of a different type, which is well suited to automatic summarization.</mark> This includes models such as T5[42] and Pegasus. [43]\n",
              "• None Potthast, Martin; Hagen, Matthias; Stein, Benno (2016). Author Obfuscation: Attacking the State of the Art in Authorship Verification . Conference and Labs of the Evaluation Forum. • None Roxana, Angheluta (2002). <mark>The Use of Topic Segmentation for Automatic Summarization.</mark> • None Elena, Lloret and Manuel, Palomar (2009). <mark>Challenging Issues of Automatic Summarization: Relevance Detection and Quality-based Evaluation.</mark> Archived from the original on 2018-10-03 . • None Alrehamy, Hassan (2018). <mark>\"SemCluster: Unsupervised Automatic Keyphrase Extraction Using Affinity Propagation\".</mark> Advances in Computational Intelligence Systems. Advances in Intelligent Systems and Computing. <mark>Vol.</mark> <mark>650. pp.</mark> 222–235. doi:10.1007/978-3-319-66939-7_19. <mark>ISBN .</mark> • None Marcu, Daniel (2000). <mark>The Theory and Practice of Discourse Parsing and Summarization.</mark> MIT Press. <mark>ISBN .</mark> • , Published in Proceeding RIAO'10 Adaptivity, Personalization and Fusion of Heterogeneous Information, CID Paris, France\n",
              "• None Xiaojin, Zhu, Andrew Goldberg, Jurgen Van Gael, and David Andrzejewski (2007). Improving diversity in ranking using absorbing random walks . , The GRASSHOPPER algorithm\n",
              "• None Miranda-Jiménez, Sabino, Gelbukh, Alexander, and Sidorov, Grigori (2013). <mark>\"Summarizing Conceptual Graphs for Automatic Summarization Task\".</mark> Conceptual Structures for STEM Research and Education. Lecture Notes in Computer Science. <mark>Vol.</mark> <mark>7735. pp.</mark> 245–253. doi:10.1007/978-3-642-35786-2_18. <mark>ISBN .</mark> , Conceptual Structures for STEM Research and Education."
            ]
          },
          "metadata": {}
        }
      ]
    },
    {
      "cell_type": "code",
      "source": [],
      "metadata": {
        "id": "DSqNosGyd0Ad"
      },
      "execution_count": null,
      "outputs": []
    }
  ]
}